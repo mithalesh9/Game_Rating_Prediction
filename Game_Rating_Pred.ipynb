{
 "cells": [
  {
   "cell_type": "code",
   "execution_count": null,
   "id": "8526fe0b",
   "metadata": {},
   "outputs": [],
   "source": [
    "# Regression model to predict the rating(Rating) of an application"
   ]
  },
  {
   "cell_type": "code",
   "execution_count": 2,
   "id": "9ff2dc7f",
   "metadata": {},
   "outputs": [],
   "source": [
    "import pandas as pd\n",
    "import numpy as np\n",
    "import seaborn as sns\n",
    "import matplotlib.pyplot as plt\n",
    "%matplotlib inline"
   ]
  },
  {
   "cell_type": "code",
   "execution_count": 3,
   "id": "d30e8110",
   "metadata": {},
   "outputs": [
    {
     "data": {
      "text/html": [
       "<div>\n",
       "<style scoped>\n",
       "    .dataframe tbody tr th:only-of-type {\n",
       "        vertical-align: middle;\n",
       "    }\n",
       "\n",
       "    .dataframe tbody tr th {\n",
       "        vertical-align: top;\n",
       "    }\n",
       "\n",
       "    .dataframe thead th {\n",
       "        text-align: right;\n",
       "    }\n",
       "</style>\n",
       "<table border=\"1\" class=\"dataframe\">\n",
       "  <thead>\n",
       "    <tr style=\"text-align: right;\">\n",
       "      <th></th>\n",
       "      <th>Category</th>\n",
       "      <th>No Of Reviews</th>\n",
       "      <th>No Of Installs</th>\n",
       "      <th>Size</th>\n",
       "      <th>Price</th>\n",
       "      <th>Days since Last Update</th>\n",
       "      <th>Rating</th>\n",
       "    </tr>\n",
       "  </thead>\n",
       "  <tbody>\n",
       "    <tr>\n",
       "      <th>0</th>\n",
       "      <td>games</td>\n",
       "      <td>510</td>\n",
       "      <td>1437</td>\n",
       "      <td>318.0</td>\n",
       "      <td>0.00</td>\n",
       "      <td>81</td>\n",
       "      <td>1.94</td>\n",
       "    </tr>\n",
       "    <tr>\n",
       "      <th>1</th>\n",
       "      <td>productivity</td>\n",
       "      <td>155</td>\n",
       "      <td>1547</td>\n",
       "      <td>204.0</td>\n",
       "      <td>-0.50</td>\n",
       "      <td>72</td>\n",
       "      <td>2.07</td>\n",
       "    </tr>\n",
       "    <tr>\n",
       "      <th>2</th>\n",
       "      <td>books</td>\n",
       "      <td>273</td>\n",
       "      <td>1162</td>\n",
       "      <td>271.0</td>\n",
       "      <td>0.81</td>\n",
       "      <td>69</td>\n",
       "      <td>1.34</td>\n",
       "    </tr>\n",
       "    <tr>\n",
       "      <th>3</th>\n",
       "      <td>games</td>\n",
       "      <td>110</td>\n",
       "      <td>1104</td>\n",
       "      <td>NaN</td>\n",
       "      <td>0.00</td>\n",
       "      <td>82</td>\n",
       "      <td>1.48</td>\n",
       "    </tr>\n",
       "    <tr>\n",
       "      <th>4</th>\n",
       "      <td>games</td>\n",
       "      <td>261</td>\n",
       "      <td>1403</td>\n",
       "      <td>224.0</td>\n",
       "      <td>1.01</td>\n",
       "      <td>98</td>\n",
       "      <td>2.80</td>\n",
       "    </tr>\n",
       "  </tbody>\n",
       "</table>\n",
       "</div>"
      ],
      "text/plain": [
       "       Category  No Of Reviews  No Of Installs   Size  Price  \\\n",
       "0         games            510            1437  318.0   0.00   \n",
       "1  productivity            155            1547  204.0  -0.50   \n",
       "2         books            273            1162  271.0   0.81   \n",
       "3         games            110            1104    NaN   0.00   \n",
       "4         games            261            1403  224.0   1.01   \n",
       "\n",
       "   Days since Last Update  Rating  \n",
       "0                      81    1.94  \n",
       "1                      72    2.07  \n",
       "2                      69    1.34  \n",
       "3                      82    1.48  \n",
       "4                      98    2.80  "
      ]
     },
     "execution_count": 3,
     "metadata": {},
     "output_type": "execute_result"
    }
   ],
   "source": [
    "# Loading CSV into DataFrame called df\n",
    "df = pd.read_csv('reviews.csv')\n",
    "\n",
    "# Quick looking at the dataframe using head()\n",
    "df.head()"
   ]
  },
  {
   "cell_type": "code",
   "execution_count": 4,
   "id": "8e60b9db",
   "metadata": {},
   "outputs": [
    {
     "data": {
      "text/plain": [
       "Category                   0\n",
       "No Of Reviews              0\n",
       "No Of Installs             0\n",
       "Size                      28\n",
       "Price                      0\n",
       "Days since Last Update     0\n",
       "Rating                     0\n",
       "dtype: int64"
      ]
     },
     "execution_count": 4,
     "metadata": {},
     "output_type": "execute_result"
    }
   ],
   "source": [
    "# Checking for the missing values in DataFrame df\n",
    "df.isnull().sum()"
   ]
  },
  {
   "cell_type": "code",
   "execution_count": 5,
   "id": "2b1b3a73",
   "metadata": {},
   "outputs": [
    {
     "data": {
      "text/html": [
       "<div>\n",
       "<style scoped>\n",
       "    .dataframe tbody tr th:only-of-type {\n",
       "        vertical-align: middle;\n",
       "    }\n",
       "\n",
       "    .dataframe tbody tr th {\n",
       "        vertical-align: top;\n",
       "    }\n",
       "\n",
       "    .dataframe thead th {\n",
       "        text-align: right;\n",
       "    }\n",
       "</style>\n",
       "<table border=\"1\" class=\"dataframe\">\n",
       "  <thead>\n",
       "    <tr style=\"text-align: right;\">\n",
       "      <th></th>\n",
       "      <th>No Of Reviews</th>\n",
       "      <th>No Of Installs</th>\n",
       "      <th>Size</th>\n",
       "      <th>Price</th>\n",
       "      <th>Days since Last Update</th>\n",
       "      <th>Rating</th>\n",
       "    </tr>\n",
       "  </thead>\n",
       "  <tbody>\n",
       "    <tr>\n",
       "      <th>count</th>\n",
       "      <td>500.000000</td>\n",
       "      <td>500.00000</td>\n",
       "      <td>472.000000</td>\n",
       "      <td>500.000000</td>\n",
       "      <td>500.000000</td>\n",
       "      <td>500.000000</td>\n",
       "    </tr>\n",
       "    <tr>\n",
       "      <th>mean</th>\n",
       "      <td>426.578000</td>\n",
       "      <td>1456.22200</td>\n",
       "      <td>247.870763</td>\n",
       "      <td>0.772200</td>\n",
       "      <td>83.274000</td>\n",
       "      <td>2.462260</td>\n",
       "    </tr>\n",
       "    <tr>\n",
       "      <th>std</th>\n",
       "      <td>366.600332</td>\n",
       "      <td>506.51664</td>\n",
       "      <td>95.105050</td>\n",
       "      <td>0.752114</td>\n",
       "      <td>14.960433</td>\n",
       "      <td>0.840859</td>\n",
       "    </tr>\n",
       "    <tr>\n",
       "      <th>min</th>\n",
       "      <td>0.000000</td>\n",
       "      <td>23.00000</td>\n",
       "      <td>8.000000</td>\n",
       "      <td>-0.500000</td>\n",
       "      <td>-80.000000</td>\n",
       "      <td>0.050000</td>\n",
       "    </tr>\n",
       "    <tr>\n",
       "      <th>25%</th>\n",
       "      <td>113.750000</td>\n",
       "      <td>1072.50000</td>\n",
       "      <td>184.000000</td>\n",
       "      <td>0.000000</td>\n",
       "      <td>76.000000</td>\n",
       "      <td>1.907500</td>\n",
       "    </tr>\n",
       "    <tr>\n",
       "      <th>50%</th>\n",
       "      <td>273.000000</td>\n",
       "      <td>1447.50000</td>\n",
       "      <td>249.000000</td>\n",
       "      <td>0.645000</td>\n",
       "      <td>84.000000</td>\n",
       "      <td>2.480000</td>\n",
       "    </tr>\n",
       "    <tr>\n",
       "      <th>75%</th>\n",
       "      <td>716.250000</td>\n",
       "      <td>1783.75000</td>\n",
       "      <td>312.250000</td>\n",
       "      <td>1.270000</td>\n",
       "      <td>92.000000</td>\n",
       "      <td>3.020000</td>\n",
       "    </tr>\n",
       "    <tr>\n",
       "      <th>max</th>\n",
       "      <td>1552.000000</td>\n",
       "      <td>2880.00000</td>\n",
       "      <td>494.000000</td>\n",
       "      <td>3.380000</td>\n",
       "      <td>117.000000</td>\n",
       "      <td>4.970000</td>\n",
       "    </tr>\n",
       "  </tbody>\n",
       "</table>\n",
       "</div>"
      ],
      "text/plain": [
       "       No Of Reviews  No Of Installs        Size       Price  \\\n",
       "count     500.000000       500.00000  472.000000  500.000000   \n",
       "mean      426.578000      1456.22200  247.870763    0.772200   \n",
       "std       366.600332       506.51664   95.105050    0.752114   \n",
       "min         0.000000        23.00000    8.000000   -0.500000   \n",
       "25%       113.750000      1072.50000  184.000000    0.000000   \n",
       "50%       273.000000      1447.50000  249.000000    0.645000   \n",
       "75%       716.250000      1783.75000  312.250000    1.270000   \n",
       "max      1552.000000      2880.00000  494.000000    3.380000   \n",
       "\n",
       "       Days since Last Update      Rating  \n",
       "count              500.000000  500.000000  \n",
       "mean                83.274000    2.462260  \n",
       "std                 14.960433    0.840859  \n",
       "min                -80.000000    0.050000  \n",
       "25%                 76.000000    1.907500  \n",
       "50%                 84.000000    2.480000  \n",
       "75%                 92.000000    3.020000  \n",
       "max                117.000000    4.970000  "
      ]
     },
     "execution_count": 5,
     "metadata": {},
     "output_type": "execute_result"
    },
    {
     "data": {
      "image/png": "[encoded data removed]",
      "text/plain": [
       "<Figure size 720x720 with 6 Axes>"
      ]
     },
     "metadata": {
      "needs_background": "light"
     },
     "output_type": "display_data"
    }
   ],
   "source": [
    "# Plotting histogram for each numerical column in DataFrame df\n",
    "df.hist(figsize = (10,10))\n",
    "\n",
    "# Getting some of the descriptive statistics\n",
    "df.describe()"
   ]
  },
  {
   "cell_type": "code",
   "execution_count": 6,
   "id": "ee900c7c",
   "metadata": {},
   "outputs": [
    {
     "data": {
      "text/html": [
       "<div>\n",
       "<style scoped>\n",
       "    .dataframe tbody tr th:only-of-type {\n",
       "        vertical-align: middle;\n",
       "    }\n",
       "\n",
       "    .dataframe tbody tr th {\n",
       "        vertical-align: top;\n",
       "    }\n",
       "\n",
       "    .dataframe thead th {\n",
       "        text-align: right;\n",
       "    }\n",
       "</style>\n",
       "<table border=\"1\" class=\"dataframe\">\n",
       "  <thead>\n",
       "    <tr style=\"text-align: right;\">\n",
       "      <th></th>\n",
       "      <th>Category</th>\n",
       "      <th>No Of Reviews</th>\n",
       "      <th>No Of Installs</th>\n",
       "      <th>Size</th>\n",
       "      <th>Price</th>\n",
       "      <th>Days since Last Update</th>\n",
       "      <th>Rating</th>\n",
       "    </tr>\n",
       "  </thead>\n",
       "  <tbody>\n",
       "    <tr>\n",
       "      <th>1</th>\n",
       "      <td>productivity</td>\n",
       "      <td>155</td>\n",
       "      <td>1547</td>\n",
       "      <td>204.0</td>\n",
       "      <td>-0.5</td>\n",
       "      <td>72</td>\n",
       "      <td>2.07</td>\n",
       "    </tr>\n",
       "  </tbody>\n",
       "</table>\n",
       "</div>"
      ],
      "text/plain": [
       "       Category  No Of Reviews  No Of Installs   Size  Price  \\\n",
       "1  productivity            155            1547  204.0   -0.5   \n",
       "\n",
       "   Days since Last Update  Rating  \n",
       "1                      72    2.07  "
      ]
     },
     "execution_count": 6,
     "metadata": {},
     "output_type": "execute_result"
    }
   ],
   "source": [
    "cond1 = df['Price'] < 0\n",
    "df[cond1]"
   ]
  },
  {
   "cell_type": "code",
   "execution_count": 7,
   "id": "8006cc37",
   "metadata": {},
   "outputs": [
    {
     "data": {
      "text/html": [
       "<div>\n",
       "<style scoped>\n",
       "    .dataframe tbody tr th:only-of-type {\n",
       "        vertical-align: middle;\n",
       "    }\n",
       "\n",
       "    .dataframe tbody tr th {\n",
       "        vertical-align: top;\n",
       "    }\n",
       "\n",
       "    .dataframe thead th {\n",
       "        text-align: right;\n",
       "    }\n",
       "</style>\n",
       "<table border=\"1\" class=\"dataframe\">\n",
       "  <thead>\n",
       "    <tr style=\"text-align: right;\">\n",
       "      <th></th>\n",
       "      <th>Category</th>\n",
       "      <th>No Of Reviews</th>\n",
       "      <th>No Of Installs</th>\n",
       "      <th>Size</th>\n",
       "      <th>Price</th>\n",
       "      <th>Days since Last Update</th>\n",
       "      <th>Rating</th>\n",
       "    </tr>\n",
       "  </thead>\n",
       "  <tbody>\n",
       "    <tr>\n",
       "      <th>11</th>\n",
       "      <td>productivity</td>\n",
       "      <td>201</td>\n",
       "      <td>2006</td>\n",
       "      <td>NaN</td>\n",
       "      <td>0.00</td>\n",
       "      <td>-68</td>\n",
       "      <td>1.91</td>\n",
       "    </tr>\n",
       "    <tr>\n",
       "      <th>88</th>\n",
       "      <td>games</td>\n",
       "      <td>59</td>\n",
       "      <td>587</td>\n",
       "      <td>335.0</td>\n",
       "      <td>1.58</td>\n",
       "      <td>-80</td>\n",
       "      <td>2.08</td>\n",
       "    </tr>\n",
       "  </tbody>\n",
       "</table>\n",
       "</div>"
      ],
      "text/plain": [
       "        Category  No Of Reviews  No Of Installs   Size  Price  \\\n",
       "11  productivity            201            2006    NaN   0.00   \n",
       "88         games             59             587  335.0   1.58   \n",
       "\n",
       "    Days since Last Update  Rating  \n",
       "11                     -68    1.91  \n",
       "88                     -80    2.08  "
      ]
     },
     "execution_count": 7,
     "metadata": {},
     "output_type": "execute_result"
    }
   ],
   "source": [
    "cond2 = df['Days since Last Update'] < 0\n",
    "df[cond2]"
   ]
  },
  {
   "cell_type": "code",
   "execution_count": 8,
   "id": "3409e5ce",
   "metadata": {
    "scrolled": true
   },
   "outputs": [
    {
     "data": {
      "text/plain": [
       "(497, 7)"
      ]
     },
     "execution_count": 8,
     "metadata": {},
     "output_type": "execute_result"
    }
   ],
   "source": [
    "cond1 = df['Price'] >= 0\n",
    "cond2 = df['Days since Last Update'] >=0\n",
    "df = df[cond1 & cond2]\n",
    "df.shape"
   ]
  },
  {
   "cell_type": "code",
   "execution_count": 9,
   "id": "1181087a",
   "metadata": {},
   "outputs": [
    {
     "data": {
      "text/html": [
       "<div>\n",
       "<style scoped>\n",
       "    .dataframe tbody tr th:only-of-type {\n",
       "        vertical-align: middle;\n",
       "    }\n",
       "\n",
       "    .dataframe tbody tr th {\n",
       "        vertical-align: top;\n",
       "    }\n",
       "\n",
       "    .dataframe thead th {\n",
       "        text-align: right;\n",
       "    }\n",
       "</style>\n",
       "<table border=\"1\" class=\"dataframe\">\n",
       "  <thead>\n",
       "    <tr style=\"text-align: right;\">\n",
       "      <th></th>\n",
       "      <th>No Of Reviews</th>\n",
       "      <th>No Of Installs</th>\n",
       "      <th>Size</th>\n",
       "      <th>Price</th>\n",
       "      <th>Days since Last Update</th>\n",
       "      <th>Rating</th>\n",
       "    </tr>\n",
       "  </thead>\n",
       "  <tbody>\n",
       "    <tr>\n",
       "      <th>count</th>\n",
       "      <td>497.000000</td>\n",
       "      <td>497.000000</td>\n",
       "      <td>470.000000</td>\n",
       "      <td>497.000000</td>\n",
       "      <td>497.000000</td>\n",
       "      <td>497.00000</td>\n",
       "    </tr>\n",
       "    <tr>\n",
       "      <th>mean</th>\n",
       "      <td>428.317907</td>\n",
       "      <td>1456.682093</td>\n",
       "      <td>247.778723</td>\n",
       "      <td>0.774688</td>\n",
       "      <td>83.929577</td>\n",
       "      <td>2.46493</td>\n",
       "    </tr>\n",
       "    <tr>\n",
       "      <th>std</th>\n",
       "      <td>366.990397</td>\n",
       "      <td>505.926262</td>\n",
       "      <td>95.201066</td>\n",
       "      <td>0.750540</td>\n",
       "      <td>11.162341</td>\n",
       "      <td>0.84267</td>\n",
       "    </tr>\n",
       "    <tr>\n",
       "      <th>min</th>\n",
       "      <td>0.000000</td>\n",
       "      <td>23.000000</td>\n",
       "      <td>8.000000</td>\n",
       "      <td>0.000000</td>\n",
       "      <td>50.000000</td>\n",
       "      <td>0.05000</td>\n",
       "    </tr>\n",
       "    <tr>\n",
       "      <th>25%</th>\n",
       "      <td>114.000000</td>\n",
       "      <td>1073.000000</td>\n",
       "      <td>184.000000</td>\n",
       "      <td>0.000000</td>\n",
       "      <td>76.000000</td>\n",
       "      <td>1.90000</td>\n",
       "    </tr>\n",
       "    <tr>\n",
       "      <th>50%</th>\n",
       "      <td>274.000000</td>\n",
       "      <td>1446.000000</td>\n",
       "      <td>249.000000</td>\n",
       "      <td>0.650000</td>\n",
       "      <td>84.000000</td>\n",
       "      <td>2.48000</td>\n",
       "    </tr>\n",
       "    <tr>\n",
       "      <th>75%</th>\n",
       "      <td>717.000000</td>\n",
       "      <td>1783.000000</td>\n",
       "      <td>312.000000</td>\n",
       "      <td>1.270000</td>\n",
       "      <td>92.000000</td>\n",
       "      <td>3.02000</td>\n",
       "    </tr>\n",
       "    <tr>\n",
       "      <th>max</th>\n",
       "      <td>1552.000000</td>\n",
       "      <td>2880.000000</td>\n",
       "      <td>494.000000</td>\n",
       "      <td>3.380000</td>\n",
       "      <td>117.000000</td>\n",
       "      <td>4.97000</td>\n",
       "    </tr>\n",
       "  </tbody>\n",
       "</table>\n",
       "</div>"
      ],
      "text/plain": [
       "       No Of Reviews  No Of Installs        Size       Price  \\\n",
       "count     497.000000      497.000000  470.000000  497.000000   \n",
       "mean      428.317907     1456.682093  247.778723    0.774688   \n",
       "std       366.990397      505.926262   95.201066    0.750540   \n",
       "min         0.000000       23.000000    8.000000    0.000000   \n",
       "25%       114.000000     1073.000000  184.000000    0.000000   \n",
       "50%       274.000000     1446.000000  249.000000    0.650000   \n",
       "75%       717.000000     1783.000000  312.000000    1.270000   \n",
       "max      1552.000000     2880.000000  494.000000    3.380000   \n",
       "\n",
       "       Days since Last Update     Rating  \n",
       "count              497.000000  497.00000  \n",
       "mean                83.929577    2.46493  \n",
       "std                 11.162341    0.84267  \n",
       "min                 50.000000    0.05000  \n",
       "25%                 76.000000    1.90000  \n",
       "50%                 84.000000    2.48000  \n",
       "75%                 92.000000    3.02000  \n",
       "max                117.000000    4.97000  "
      ]
     },
     "execution_count": 9,
     "metadata": {},
     "output_type": "execute_result"
    }
   ],
   "source": [
    "df.describe()"
   ]
  },
  {
   "cell_type": "code",
   "execution_count": 10,
   "id": "774d3928",
   "metadata": {},
   "outputs": [],
   "source": [
    "# splitting dataset into training and test subsets\n",
    "\n",
    "from sklearn.model_selection import train_test_split\n",
    "X = df.iloc[:, :-1]\n",
    "y = df.iloc[:, -1]\n",
    "X_train, X_test, y_train, y_test = train_test_split(X, y, test_size = 0.2, random_state = 0)"
   ]
  },
  {
   "cell_type": "code",
   "execution_count": 11,
   "id": "b19bfa39",
   "metadata": {},
   "outputs": [
    {
     "data": {
      "text/html": [
       "<div>\n",
       "<style scoped>\n",
       "    .dataframe tbody tr th:only-of-type {\n",
       "        vertical-align: middle;\n",
       "    }\n",
       "\n",
       "    .dataframe tbody tr th {\n",
       "        vertical-align: top;\n",
       "    }\n",
       "\n",
       "    .dataframe thead th {\n",
       "        text-align: right;\n",
       "    }\n",
       "</style>\n",
       "<table border=\"1\" class=\"dataframe\">\n",
       "  <thead>\n",
       "    <tr style=\"text-align: right;\">\n",
       "      <th></th>\n",
       "      <th>No Of Reviews</th>\n",
       "      <th>No Of Installs</th>\n",
       "      <th>Size</th>\n",
       "      <th>Price</th>\n",
       "      <th>Days since Last Update</th>\n",
       "    </tr>\n",
       "  </thead>\n",
       "  <tbody>\n",
       "    <tr>\n",
       "      <th>No Of Reviews</th>\n",
       "      <td>1.000000</td>\n",
       "      <td>0.514130</td>\n",
       "      <td>-0.018121</td>\n",
       "      <td>-0.086976</td>\n",
       "      <td>-0.078577</td>\n",
       "    </tr>\n",
       "    <tr>\n",
       "      <th>No Of Installs</th>\n",
       "      <td>0.514130</td>\n",
       "      <td>1.000000</td>\n",
       "      <td>-0.004516</td>\n",
       "      <td>-0.018700</td>\n",
       "      <td>-0.054035</td>\n",
       "    </tr>\n",
       "    <tr>\n",
       "      <th>Size</th>\n",
       "      <td>-0.018121</td>\n",
       "      <td>-0.004516</td>\n",
       "      <td>1.000000</td>\n",
       "      <td>-0.038070</td>\n",
       "      <td>-0.002414</td>\n",
       "    </tr>\n",
       "    <tr>\n",
       "      <th>Price</th>\n",
       "      <td>-0.086976</td>\n",
       "      <td>-0.018700</td>\n",
       "      <td>-0.038070</td>\n",
       "      <td>1.000000</td>\n",
       "      <td>-0.031706</td>\n",
       "    </tr>\n",
       "    <tr>\n",
       "      <th>Days since Last Update</th>\n",
       "      <td>-0.078577</td>\n",
       "      <td>-0.054035</td>\n",
       "      <td>-0.002414</td>\n",
       "      <td>-0.031706</td>\n",
       "      <td>1.000000</td>\n",
       "    </tr>\n",
       "  </tbody>\n",
       "</table>\n",
       "</div>"
      ],
      "text/plain": [
       "                        No Of Reviews  No Of Installs      Size     Price  \\\n",
       "No Of Reviews                1.000000        0.514130 -0.018121 -0.086976   \n",
       "No Of Installs               0.514130        1.000000 -0.004516 -0.018700   \n",
       "Size                        -0.018121       -0.004516  1.000000 -0.038070   \n",
       "Price                       -0.086976       -0.018700 -0.038070  1.000000   \n",
       "Days since Last Update      -0.078577       -0.054035 -0.002414 -0.031706   \n",
       "\n",
       "                        Days since Last Update  \n",
       "No Of Reviews                        -0.078577  \n",
       "No Of Installs                       -0.054035  \n",
       "Size                                 -0.002414  \n",
       "Price                                -0.031706  \n",
       "Days since Last Update                1.000000  "
      ]
     },
     "execution_count": 11,
     "metadata": {},
     "output_type": "execute_result"
    }
   ],
   "source": [
    "# Checking the correlation coefficient among the features.\n",
    "# For our project correlation coefficient not be greater than 0.7 or smaller than 0.7\n",
    "\n",
    "X_train.corr()"
   ]
  },
  {
   "cell_type": "code",
   "execution_count": 12,
   "id": "dc22a76f",
   "metadata": {},
   "outputs": [
    {
     "data": {
      "image/png": "[encoded data removed]",
      "text/plain": [
       "<Figure size 1080x720 with 6 Axes>"
      ]
     },
     "metadata": {
      "needs_background": "light"
     },
     "output_type": "display_data"
    }
   ],
   "source": [
    "columns = ['Category', 'No Of Reviews', 'No Of Installs', 'Size', 'Price', 'Days since Last Update']\n",
    "i = 0\n",
    "fig, axes = plt.subplots(2, 3, figsize=(15, 10))\n",
    "for row in range(0,2):\n",
    "    for col in range(0,3):\n",
    "        axes[row,col].scatter(X_train[columns[i]], y_train, s = 5)\n",
    "        axes[row,col].set_xlabel(columns[i])\n",
    "        axes[row,col].set_ylabel('Rating')\n",
    "        i += 1"
   ]
  },
  {
   "cell_type": "markdown",
   "id": "3286e399",
   "metadata": {},
   "source": [
    "# Data Preprocessing"
   ]
  },
  {
   "cell_type": "code",
   "execution_count": 13,
   "id": "50aabc35",
   "metadata": {},
   "outputs": [
    {
     "name": "stdout",
     "output_type": "stream",
     "text": [
      "[-1.14922     1.1215984  -1.13561632  0.0732169   0.01224327  1.\n",
      "  0.          0.          0.        ]\n"
     ]
    }
   ],
   "source": [
    "from sklearn.impute import SimpleImputer\n",
    "from sklearn.preprocessing import StandardScaler\n",
    "from sklearn.preprocessing import OneHotEncoder\n",
    "num_col = ['No Of Reviews', 'No Of Installs', 'Size', 'Price',\n",
    "'Days since Last Update']\n",
    "cat_col = ['Category']\n",
    "imp = SimpleImputer(strategy='mean')\n",
    "tf_num = imp.fit_transform(X_train[num_col])\n",
    "scaler = StandardScaler()\n",
    "tf_num = scaler.fit_transform(tf_num)\n",
    "ohe = OneHotEncoder(sparse = False, drop = 'first')\n",
    "tf_cat = ohe.fit_transform(X_train[cat_col])\n",
    "X_train_transformed = np.concatenate((tf_num, tf_cat), axis=1)\n",
    "print(X_train_transformed[0])"
   ]
  },
  {
   "cell_type": "markdown",
   "id": "b049ba51",
   "metadata": {},
   "source": [
    "# Train the model"
   ]
  },
  {
   "cell_type": "code",
   "execution_count": 14,
   "id": "086ca0e8",
   "metadata": {},
   "outputs": [
    {
     "name": "stdout",
     "output_type": "stream",
     "text": [
      "[-0.01263761  0.44527099  0.00512994  0.33109219  0.57813034  0.15265019\n",
      " -0.09387284  0.01393827  0.09654561]\n",
      "2.4437510828137157\n"
     ]
    }
   ],
   "source": [
    "from sklearn.linear_model import LinearRegression\n",
    "model = LinearRegression()\n",
    "model.fit(X_train_transformed, y_train)\n",
    "print(model.coef_)\n",
    "print(model.intercept_)"
   ]
  },
  {
   "cell_type": "markdown",
   "id": "c87d6c89",
   "metadata": {},
   "source": [
    "# Evaluate the model"
   ]
  },
  {
   "cell_type": "code",
   "execution_count": 16,
   "id": "eecaf277",
   "metadata": {},
   "outputs": [
    {
     "name": "stdout",
     "output_type": "stream",
     "text": [
      "0.313351772053805\n",
      "0.8579549928483164\n",
      "0.28455529875001995\n",
      "0.8958679954075467\n"
     ]
    }
   ],
   "source": [
    "from sklearn.metrics import mean_squared_error, r2_score\n",
    "y_train_pred = model.predict(X_train_transformed)\n",
    "rmse = mean_squared_error(y_train, y_train_pred, squared = False)\n",
    "r2 = r2_score(y_train, y_train_pred)\n",
    "print(rmse)\n",
    "print(r2)\n",
    "\n",
    "test_tf_num = imp.transform(X_test[num_col])\n",
    "test_tf_num = scaler.transform(test_tf_num)\n",
    "test_tf_cat = ohe.transform(X_test[cat_col])\n",
    "X_test_transformed = np.concatenate((test_tf_num, test_tf_cat),\n",
    "axis=1)\n",
    "y_test_pred = model.predict(X_test_transformed)\n",
    "rmse = mean_squared_error(y_test, y_test_pred, squared = False)\n",
    "r2 = r2_score(y_test, y_test_pred)\n",
    "print(rmse)\n",
    "print(r2)"
   ]
  },
  {
   "cell_type": "code",
   "execution_count": 17,
   "id": "efaf97a6",
   "metadata": {},
   "outputs": [],
   "source": [
    "from sklearn.pipeline import Pipeline\n",
    "from sklearn.compose import ColumnTransformer\n",
    "num_preprocessing = Pipeline(\n",
    "[('imp', SimpleImputer(strategy='mean')),\n",
    "('scaler', StandardScaler())])\n",
    "full_preprocessing = ColumnTransformer(\n",
    "[('num', num_preprocessing, num_col),\n",
    "('cat', OneHotEncoder(sparse=False, drop='first'), cat_col)])\n",
    "final_pipeline = Pipeline(\n",
    "[('pre', full_preprocessing),\n",
    "('model', LinearRegression())])"
   ]
  },
  {
   "cell_type": "code",
   "execution_count": 18,
   "id": "bc444daa",
   "metadata": {},
   "outputs": [
    {
     "data": {
      "text/plain": [
       "Pipeline(steps=[('pre',\n",
       "                 ColumnTransformer(transformers=[('num',\n",
       "                                                  Pipeline(steps=[('imp',\n",
       "                                                                   SimpleImputer()),\n",
       "                                                                  ('scaler',\n",
       "                                                                   StandardScaler())]),\n",
       "                                                  ['No Of Reviews',\n",
       "                                                   'No Of Installs', 'Size',\n",
       "                                                   'Price',\n",
       "                                                   'Days since Last Update']),\n",
       "                                                 ('cat',\n",
       "                                                  OneHotEncoder(drop='first',\n",
       "                                                                sparse=False),\n",
       "                                                  ['Category'])])),\n",
       "                ('model', LinearRegression())])"
      ]
     },
     "execution_count": 18,
     "metadata": {},
     "output_type": "execute_result"
    }
   ],
   "source": [
    "final_pipeline.fit(X_train, y_train)"
   ]
  },
  {
   "cell_type": "code",
   "execution_count": 20,
   "id": "e4382802",
   "metadata": {},
   "outputs": [
    {
     "name": "stdout",
     "output_type": "stream",
     "text": [
      "0.313351772053805\n",
      "0.8579549928483164\n",
      "0.28455529875001995\n",
      "0.8958679954075467\n"
     ]
    }
   ],
   "source": [
    "y_train_pred = final_pipeline.predict(X_train)\n",
    "rmse = mean_squared_error(y_train, y_train_pred, squared=False)\n",
    "r2 = r2_score(y_train, y_train_pred)\n",
    "print(rmse)\n",
    "print(r2)\n",
    "\n",
    "y_test_pred = final_pipeline.predict(X_test)\n",
    "rmse = mean_squared_error(y_test, y_test_pred, squared=False)\n",
    "r2 = r2_score(y_test, y_test_pred)\n",
    "print(rmse)\n",
    "print(r2)"
   ]
  },
  {
   "cell_type": "code",
   "execution_count": 21,
   "id": "07528067",
   "metadata": {},
   "outputs": [
    {
     "name": "stdout",
     "output_type": "stream",
     "text": [
      "0.32508192142610537\n",
      "0.8409908098104693\n"
     ]
    }
   ],
   "source": [
    "from sklearn.model_selection import cross_val_score\n",
    "scores = cross_val_score(final_pipeline, X_train, y_train, cv=4,\n",
    "scoring=\"neg_root_mean_squared_error\")\n",
    "neg_rmse_cv = scores.mean()\n",
    "print(-neg_rmse_cv)\n",
    "scores = cross_val_score(final_pipeline, X_train, y_train, cv=4,\n",
    "scoring=\"r2\")\n",
    "r2_cv = scores.mean()\n",
    "print(r2_cv)"
   ]
  }
 ],
 "metadata": {
  "kernelspec": {
   "display_name": "Python 3 (ipykernel)",
   "language": "python",
   "name": "python3"
  },
  "language_info": {
   "codemirror_mode": {
    "name": "ipython",
    "version": 3
   },
   "file_extension": ".py",
   "mimetype": "text/x-python",
   "name": "python",
   "nbconvert_exporter": "python",
   "pygments_lexer": "ipython3",
   "version": "3.9.12"
  }
 },
 "nbformat": 4,
 "nbformat_minor": 5
}
